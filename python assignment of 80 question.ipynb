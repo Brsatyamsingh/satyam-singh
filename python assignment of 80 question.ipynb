{
 "cells": [
  {
   "cell_type": "code",
   "execution_count": 21,
   "id": "8a5e52eb",
   "metadata": {},
   "outputs": [
    {
     "name": "stdout",
     "output_type": "stream",
     "text": [
      "hello word\n"
     ]
    }
   ],
   "source": [
    "# 1.) print hello word\n",
    "print(\"hello word\")\n"
   ]
  },
  {
   "cell_type": "code",
   "execution_count": 6,
   "id": "c0e16488",
   "metadata": {},
   "outputs": [
    {
     "name": "stdout",
     "output_type": "stream",
     "text": [
      "Enter first number: 7.8\n",
      "Enter second number: 9\n",
      "The sum of 7.8 and 9 is 16.8\n"
     ]
    }
   ],
   "source": [
    "# 2.) program to add two numbers\n",
    "num1 = input('Enter first number: ')\n",
    "num2 = input('Enter second number: ')\n",
    "sum= float(num1) + float(num2)\n",
    "print('The sum of {0} and {1} is {2}'.format(num1, num2, sum))"
   ]
  },
  {
   "cell_type": "code",
   "execution_count": 24,
   "id": "d858ebd3",
   "metadata": {},
   "outputs": [
    {
     "name": "stdout",
     "output_type": "stream",
     "text": [
      "Enter a number 9\n",
      "3.0\n"
     ]
    }
   ],
   "source": [
    "# 3.) program to calculate square root\n",
    "import math\n",
    "n=int(input(\"Enter a number \"))\n",
    "a=print(math.sqrt(n))"
   ]
  },
  {
   "cell_type": "code",
   "execution_count": 15,
   "id": "2b263255",
   "metadata": {},
   "outputs": [
    {
     "name": "stdout",
     "output_type": "stream",
     "text": [
      "Enter first side: 15\n",
      "Enter second side: 20\n",
      "Enter third side: 23\n",
      "The area of the triangle is 148.07\n"
     ]
    }
   ],
   "source": [
    "# 4.) program to calculate area of triangle\n",
    "a = float(input('Enter first side: '))\n",
    "b = float(input('Enter second side: '))\n",
    "c = float(input('Enter third side: '))\n",
    "s=(a+b+c)/2\n",
    "area = (s*(s-a)*(s-b)*(s-c)) ** 0.5\n",
    "print('The area of the triangle is %0.2f' %area)"
   ]
  },
  {
   "cell_type": "code",
   "execution_count": 16,
   "id": "d979a8e6",
   "metadata": {},
   "outputs": [
    {
     "name": "stdout",
     "output_type": "stream",
     "text": [
      "Enter value of x: 9876\n",
      "Enter value of y: 3456\n",
      "The value of x after swapping: 3456\n",
      "The value of y after swapping: 9876\n"
     ]
    }
   ],
   "source": [
    "# 6.) program to swap two variables\n",
    "x = input('Enter value of x: ')\n",
    "y = input('Enter value of y: ')\n",
    "\n",
    "temp = x\n",
    "x = y\n",
    "y = temp\n",
    "\n",
    "print('The value of x after swapping: {}'.format(x))\n",
    "print('The value of y after swapping: {}'.format(y))"
   ]
  },
  {
   "cell_type": "code",
   "execution_count": 20,
   "id": "9427837b",
   "metadata": {},
   "outputs": [
    {
     "name": "stdout",
     "output_type": "stream",
     "text": [
      "1\n"
     ]
    }
   ],
   "source": [
    "# 7.) program to generate a random variable\n",
    "import random\n",
    "\n",
    "print(random.randint(0,9))"
   ]
  },
  {
   "cell_type": "code",
   "execution_count": 22,
   "id": "994fa9f4",
   "metadata": {},
   "outputs": [
    {
     "name": "stdout",
     "output_type": "stream",
     "text": [
      "Enter value in kilometers: 4\n",
      "4.00 kilometers is equal to 2.49 miles\n"
     ]
    }
   ],
   "source": [
    "# 8.) program to converts kilometres to miles\n",
    "kilometers = float(input(\"Enter value in kilometers: \"))\n",
    "\n",
    "\n",
    "conv_fac = 0.621371\n",
    "\n",
    "\n",
    "miles = kilometers * conv_fac\n",
    "print('%0.2f kilometers is equal to %0.2f miles' %(kilometers,miles))\n"
   ]
  },
  {
   "cell_type": "code",
   "execution_count": 26,
   "id": "14ee0046",
   "metadata": {},
   "outputs": [
    {
     "name": "stdout",
     "output_type": "stream",
     "text": [
      "Enter the tempreture in celsius37\n",
      "tempreture in fahrenheit is  98.60000000000001\n"
     ]
    }
   ],
   "source": [
    "# 9.) program to calculate celsius to fahrenheit\n",
    "c=int(input(\"Enter the tempreture in celsius\"))\n",
    "f=(c*(9/5))+32\n",
    "print(\"tempreture in fahrenheit is \",f)"
   ]
  },
  {
   "cell_type": "code",
   "execution_count": 29,
   "id": "1071f97e",
   "metadata": {},
   "outputs": [
    {
     "name": "stdout",
     "output_type": "stream",
     "text": [
      "Enter a  number 0\n",
      "Number is zero \n"
     ]
    }
   ],
   "source": [
    "# 10.) check a number positive negative or zero\n",
    "n=int(input(\"Enter a  number \"))\n",
    "if n>0:\n",
    "    print(\"number is postive\")\n",
    "elif(n==0):\n",
    "    print(\"Number is zero \")\n",
    "else:\n",
    "    print(\"Number is negative\")"
   ]
  },
  {
   "cell_type": "code",
   "execution_count": 31,
   "id": "1d153712",
   "metadata": {},
   "outputs": [
    {
     "name": "stdout",
     "output_type": "stream",
     "text": [
      "Enter a number 0\n",
      "Number is even\n"
     ]
    }
   ],
   "source": [
    "# 11.) check a number even or odd\n",
    "\n",
    "n=int(input(\"Enter a number \"))\n",
    "if n%2==0:\n",
    "    print(\"Number is even\")\n",
    "else:\n",
    "    print(\"Number is odd\")\n",
    "    "
   ]
  },
  {
   "cell_type": "code",
   "execution_count": 32,
   "id": "7a39feaf",
   "metadata": {},
   "outputs": [
    {
     "name": "stdout",
     "output_type": "stream",
     "text": [
      "Enter a year 9007\n",
      "year is not a leap\n"
     ]
    }
   ],
   "source": [
    "# 12.) check a leap year\n",
    "year=int(input(\"Enter a year \"))\n",
    "if year%400==0:\n",
    "    print(\"year is leap year \")\n",
    "elif year%100==0:\n",
    "    print(\"year is not leap yaer \")\n",
    "elif year%4==0:\n",
    "    print(\"year is leap year \")\n",
    "else:\n",
    "    print(\"year is not a leap\")"
   ]
  },
  {
   "cell_type": "code",
   "execution_count": 33,
   "id": "3fe34741",
   "metadata": {},
   "outputs": [
    {
     "name": "stdout",
     "output_type": "stream",
     "text": [
      "Enter first number 7\n",
      "Enter second number 3\n",
      "Enter third number 9\n",
      "c is gretest number \n"
     ]
    }
   ],
   "source": [
    "# 13.) find the largest among three number\n",
    "a=int(input(\"Enter first number \"))\n",
    "b=int(input(\"Enter second number \"))\n",
    "c=int(input(\"Enter third number \"))\n",
    "if a>b and a>c:\n",
    "    print(\"a is gretest number \")\n",
    "elif b>c:\n",
    "    print(\"b is gretest number \")\n",
    "else:\n",
    "    print(\"c is gretest number \")"
   ]
  },
  {
   "cell_type": "code",
   "execution_count": 3,
   "id": "b1c558e5",
   "metadata": {},
   "outputs": [
    {
     "name": "stdout",
     "output_type": "stream",
     "text": [
      "Enter a number 7\n",
      "7 is prime number\n"
     ]
    }
   ],
   "source": [
    "# 14.) check a number prime or not\n",
    "n=int(input(\"Enter a number \"))\n",
    "flag=0\n",
    "for i in range (2,n):\n",
    "    if n%i==0:\n",
    "        flag=1 \n",
    "if flag==0:\n",
    "    print(n,\"is prime number\")"
   ]
  },
  {
   "cell_type": "code",
   "execution_count": 4,
   "id": "62d90b46",
   "metadata": {},
   "outputs": [
    {
     "name": "stdout",
     "output_type": "stream",
     "text": [
      "Enter starting point2\n",
      "Enter ending point100\n",
      "2\n",
      "3\n",
      "5\n",
      "7\n",
      "11\n",
      "13\n",
      "17\n",
      "19\n",
      "23\n",
      "29\n",
      "31\n",
      "37\n",
      "41\n",
      "43\n",
      "47\n",
      "53\n",
      "59\n",
      "61\n",
      "67\n",
      "71\n",
      "73\n",
      "79\n",
      "83\n",
      "89\n",
      "97\n"
     ]
    }
   ],
   "source": [
    "# 15.) check prime number in a given intervel\n",
    "\n",
    "st=int(input(\"Enter starting point\"))\n",
    "en=int(input(\"Enter ending point\"))\n",
    "for i in range(st,en+1,1):\n",
    "    flag=0\n",
    "    for j in range(2,i):\n",
    "        if i%j==0:\n",
    "            flag=1\n",
    "    if flag==0:\n",
    "        print(i)"
   ]
  },
  {
   "cell_type": "code",
   "execution_count": 6,
   "id": "21d7abda",
   "metadata": {},
   "outputs": [
    {
     "name": "stdout",
     "output_type": "stream",
     "text": [
      "Enter a number 5\n",
      "factorial is  120\n"
     ]
    }
   ],
   "source": [
    "# 16.) factorial of a number\n",
    "n=int(input(\"Enter a number \"))\n",
    "fact=1\n",
    "for i in range(1,n+1):\n",
    "    fact=fact*i\n",
    "print(\"factorial is \",fact)"
   ]
  },
  {
   "cell_type": "code",
   "execution_count": 3,
   "id": "35da2780",
   "metadata": {},
   "outputs": [
    {
     "name": "stdout",
     "output_type": "stream",
     "text": [
      "Enter the number up to table be print 8\n",
      "1 2 3 4 5 6 7 8 9 10 \n",
      "2 4 6 8 10 12 14 16 18 20 \n",
      "3 6 9 12 15 18 21 24 27 30 \n",
      "4 8 12 16 20 24 28 32 36 40 \n",
      "5 10 15 20 25 30 35 40 45 50 \n",
      "6 12 18 24 30 36 42 48 54 60 \n",
      "7 14 21 28 35 42 49 56 63 70 \n",
      "8 16 24 32 40 48 56 64 72 80 \n"
     ]
    }
   ],
   "source": [
    "# 17.) display the multiplication table\n",
    "n=int(input(\"Enter the number up to table be print \"))\n",
    "mul=1\n",
    "for i  in range(1,n+1):\n",
    "    for j in range(1,11):\n",
    "        mul=i*j \n",
    "        print(mul,end=\" \")\n",
    "    print()"
   ]
  },
  {
   "cell_type": "code",
   "execution_count": 5,
   "id": "07064677",
   "metadata": {},
   "outputs": [
    {
     "name": "stdout",
     "output_type": "stream",
     "text": [
      "Enter a numer ut to series be printed 6\n",
      "0\n",
      "1\n",
      "1\n",
      "2\n",
      "3\n",
      "5\n",
      "8\n"
     ]
    }
   ],
   "source": [
    "# 18.)fibonacci  sequence\n",
    "n=int(input(\"Enter a numer ut to series be printed \"))\n",
    "p=1\n",
    "pp=0 \n",
    "print(pp)\n",
    "print(p)\n",
    "for i in range(n-1):\n",
    "    nx=p+pp\n",
    "    print(nx)\n",
    "    pp=p\n",
    "    p=nx"
   ]
  },
  {
   "cell_type": "markdown",
   "id": "b65feb1d",
   "metadata": {},
   "source": []
  },
  {
   "cell_type": "code",
   "execution_count": 4,
   "id": "9454c32e",
   "metadata": {},
   "outputs": [
    {
     "name": "stdout",
     "output_type": "stream",
     "text": [
      "Enter a number 153\n",
      "Number is armstrong\n"
     ]
    }
   ],
   "source": [
    "# 19.) check armstrong number\n",
    "n=int(input(\"Enter a number \"))\n",
    "res=0\n",
    "sum=0\n",
    "temp=n\n",
    "while temp!=0:\n",
    "    res=temp%10\n",
    "    sum=sum+res**3\n",
    "    temp=temp//10\n",
    "if n==sum:\n",
    "    print(\"Number is armstrong\")"
   ]
  },
  {
   "cell_type": "code",
   "execution_count": 6,
   "id": "3e45243f",
   "metadata": {},
   "outputs": [
    {
     "name": "stdout",
     "output_type": "stream",
     "text": [
      "Enter the number up to sum 20\n",
      "sum is  210\n"
     ]
    }
   ],
   "source": [
    "# 21.) sum of n natural number \n",
    "n=int(input(\"Enter the number up to sum \"))\n",
    "sum=0\n",
    "for i in range(1,n+1):\n",
    "    sum=sum+i \n",
    "print(\"sum is \",sum)"
   ]
  },
  {
   "cell_type": "code",
   "execution_count": 12,
   "id": "d126c5f6",
   "metadata": {},
   "outputs": [
    {
     "name": "stdout",
     "output_type": "stream",
     "text": [
      "enter a number 4\n",
      "16\n"
     ]
    }
   ],
   "source": [
    "# 22.) power of 2 using anonymous function\n",
    "pow=lambda n:n**2\n",
    "n=int(input(\"enter a number \"))\n",
    "\n",
    "print(pow(n))\n"
   ]
  },
  {
   "cell_type": "code",
   "execution_count": 8,
   "id": "49fab2af",
   "metadata": {},
   "outputs": [
    {
     "name": "stdout",
     "output_type": "stream",
     "text": [
      "Enter the first number 30\n",
      "Enter second number 10\n",
      "30 is divisible by 10\n"
     ]
    }
   ],
   "source": [
    "# 23.) find the divisibilty of another number\n",
    "a=int(input(\"Enter the first number \"))\n",
    "b=int(input(\"Enter second number \"))\n",
    "if a%b==0:\n",
    "    print(a,\"is divisible by\",b)"
   ]
  },
  {
   "cell_type": "markdown",
   "id": "beec34fc",
   "metadata": {},
   "source": [
    "\n"
   ]
  },
  {
   "cell_type": "markdown",
   "id": "28ef44d4",
   "metadata": {},
   "source": []
  },
  {
   "cell_type": "markdown",
   "id": "d77b8830",
   "metadata": {},
   "source": []
  },
  {
   "cell_type": "code",
   "execution_count": 1,
   "id": "f2ceb58a",
   "metadata": {},
   "outputs": [
    {
     "name": "stdout",
     "output_type": "stream",
     "text": [
      "Enter the year 2021\n",
      "Enter the month9\n",
      "   September 2021\n",
      "Mo Tu We Th Fr Sa Su\n",
      "       1  2  3  4  5\n",
      " 6  7  8  9 10 11 12\n",
      "13 14 15 16 17 18 19\n",
      "20 21 22 23 24 25 26\n",
      "27 28 29 30\n",
      "\n"
     ]
    }
   ],
   "source": [
    "# 31.) display calendar\n",
    "import calendar\n",
    "year=int(input(\"Enter the year \"))\n",
    "month=int(input(\"Enter the month\"))\n",
    "print(calendar.month(year,month))"
   ]
  },
  {
   "cell_type": "markdown",
   "id": "7faa7f41",
   "metadata": {},
   "source": []
  },
  {
   "cell_type": "markdown",
   "id": "4557fa2a",
   "metadata": {},
   "source": []
  },
  {
   "cell_type": "code",
   "execution_count": 2,
   "id": "101a72ad",
   "metadata": {},
   "outputs": [
    {
     "name": "stdout",
     "output_type": "stream",
     "text": [
      "Enter the number up to series be print 10\n",
      "0\n",
      "1\n",
      "1\n",
      "2\n",
      "3\n",
      "5\n",
      "8\n",
      "13\n",
      "21\n",
      "34\n",
      "55\n"
     ]
    }
   ],
   "source": [
    "# 32.fibbonacci sequnce using recursion\n",
    "def fib(a):\n",
    "    if a==0 or a==1:\n",
    "        return a\n",
    "    else:\n",
    "         return fib(a-1)+fib(a-2)\n",
    "n=int(input(\"Enter the number up to series be print \"))\n",
    "for i in range(n+1):\n",
    "    print(fib(i))"
   ]
  },
  {
   "cell_type": "code",
   "execution_count": 3,
   "id": "444dfa02",
   "metadata": {},
   "outputs": [
    {
     "name": "stdout",
     "output_type": "stream",
     "text": [
      "enter a number up to sum be print 10\n",
      "55\n"
     ]
    }
   ],
   "source": [
    "# 33.) sum of n natural number by using recursion\n",
    "def sum(x):\n",
    "    s=0\n",
    "    if x==0:\n",
    "        return s\n",
    "    else:\n",
    "        return s+x+sum(x-1)\n",
    "n=int(input(\"enter a number up to sum be print \"))\n",
    "print(sum(n))"
   ]
  },
  {
   "cell_type": "code",
   "execution_count": 4,
   "id": "eebd4ca0",
   "metadata": {},
   "outputs": [
    {
     "name": "stdout",
     "output_type": "stream",
     "text": [
      "Enter a number 4\n",
      "24\n"
     ]
    }
   ],
   "source": [
    "# 34.) factorial of a number using recursion\n",
    "def fact(x):\n",
    "    f=1\n",
    "    if x==0 or x==1:\n",
    "        return 1\n",
    "    else:\n",
    "        return x*fact(x-1)\n",
    " \n",
    "n=int(input(\"Enter a number \"))\n",
    "print(fact(n))"
   ]
  },
  {
   "cell_type": "code",
   "execution_count": 5,
   "id": "738f0b7b",
   "metadata": {},
   "outputs": [
    {
     "name": "stdout",
     "output_type": "stream",
     "text": [
      "Enter a decimal  number 5\n",
      "The binary number is \n",
      "0101"
     ]
    }
   ],
   "source": [
    "# 35.) convert a decimal number to binary by recursion\n",
    "def dec_bin(x):\n",
    "    if x>=1:\n",
    "        dec_bin(x//2)\n",
    "    print(x%2,end=\"\")\n",
    "      \n",
    "if __name__ == '__main__':\n",
    "    num=int(input(\"Enter a decimal  number \"))\n",
    "    print(\"The binary number is \" ) \n",
    "    dec_bin(num)"
   ]
  },
  {
   "cell_type": "code",
   "execution_count": 6,
   "id": "6d8e5b3a",
   "metadata": {},
   "outputs": [
    {
     "name": "stdout",
     "output_type": "stream",
     "text": [
      "([3, 48, 39], [14, 17, 21], [34, 23, 34])\n"
     ]
    }
   ],
   "source": [
    "# 36.add of two matrix\n",
    "mat1=[1,3,5],[2,4,7],[23,13,22]\n",
    "mat2=[2,45,34],[12,13,14],[11,10,12]\n",
    "mat3=[0,0,0],[0,0,0],[0,0,0]\n",
    "\n",
    "for i in range(len(mat1)):\n",
    "    for j in range(len(mat1[0])):\n",
    "        mat3[i][j]=mat1[i][j]+mat2[i][j]\n",
    "print(mat3)"
   ]
  },
  {
   "cell_type": "code",
   "execution_count": null,
   "id": "5755e766",
   "metadata": {},
   "outputs": [],
   "source": [
    "# 37.) transpose a matrix\n",
    "mat1=[]\n",
    "tra=[]\n",
    "r=int(input(\"Enter the number of row \"))\n",
    "c=int(input(\"Enter the number of coloum\"))\n",
    "print(\"Enter the element of matrix \")\n",
    "for i in range(r):\n",
    "    a=[]\n",
    "    for j in range(c):\n",
    "        a.append(int(input()))\n",
    "    mat1.append(a)   \n",
    "   \n",
    "    \n",
    "    '''logic for transpose '''\n",
    "for i in range(c):\n",
    "    for j in range(r):\n",
    "        tra[i][j]=mat1[j][i]\n",
    "        \n",
    "for i in range(2):\n",
    "    for j in range(1):\n",
    "        print(tra[i][j],end=' ')\n",
    "    print()"
   ]
  },
  {
   "cell_type": "markdown",
   "id": "c93aadc3",
   "metadata": {},
   "source": [
    "## 38.) program to  multiply two matrix\n",
    "import numpy as np\n",
    "r1=int(input(\"Enter number of row in first matrix \"))\n",
    "c1=int(input(\"Enter number of coloumn in first matrix \"))\n",
    "r2=int(input(\"Enter number of row in second matrix \"))\n",
    "c2=int(input(\"Enter number of coloumn in second matrix \"))\n",
    "mat1=[]\n",
    "mat2=[]\n",
    "mul=[]\n",
    "for i in range(r1):\n",
    "    a=[]\n",
    "    for i in range(c1):\n",
    "        a.append(int(input()))\n",
    "    mat1.append(a)    \n",
    "for i in range(r2):\n",
    "    b=[]\n",
    "    for i in range(c2):\n",
    "        b.append(int(input()))\n",
    "    mat2.append(b)        \n",
    "if c1==r2:\n",
    "    mul=np.dot(mat1,mat2)\n",
    "for i in range(r1):\n",
    "    for j in range(c1):\n",
    "        print(mul[i][j],end=' ')\n",
    "    print()"
   ]
  },
  {
   "cell_type": "code",
   "execution_count": 5,
   "id": "e5c064fb",
   "metadata": {},
   "outputs": [
    {
     "name": "stdout",
     "output_type": "stream",
     "text": [
      "Enter a string aman naman shyam ram monu sonu\n",
      "['aman', 'monu', 'naman', 'ram', 'shyam', 'sonu']\n"
     ]
    }
   ],
   "source": [
    "# 41.) sort words by alphabetically order\n",
    "s=input(\"Enter a string \")\n",
    "li=[]\n",
    "li=s.split()\n",
    "li.sort()\n",
    "print(li)"
   ]
  },
  {
   "cell_type": "code",
   "execution_count": 10,
   "id": "f8e4cc6f",
   "metadata": {},
   "outputs": [
    {
     "name": "stdout",
     "output_type": "stream",
     "text": [
      "{33, 70, 40, 10, 44, 50, 51, 20, 60, 30}\n",
      "{10, 50, 20, 30}\n",
      "{40, 60, 70}\n",
      "{33, 51, 44}\n",
      "{70, 33, 40, 44, 51, 60}\n",
      "False\n",
      "False\n",
      "{70, 40, 10, 50, 20, 60, 30}\n"
     ]
    }
   ],
   "source": [
    "# 42.)illustrate diffrent set operation\n",
    "\n",
    "a={10,20,30,40,50,60,70}\n",
    "b={33,44,51,10,20,50,30,33}\n",
    "print(a|b)        #union of two set\n",
    "print(a&b)        #intersection of two set\n",
    "print(a-b)         #difference of two set\n",
    "print(b-a)\n",
    "print(a^b)\n",
    "print(a>=b)\n",
    "print(b<=a)\n",
    "print(a )"
   ]
  },
  {
   "cell_type": "code",
   "execution_count": 1,
   "id": "b1032f7c",
   "metadata": {},
   "outputs": [
    {
     "name": "stdout",
     "output_type": "stream",
     "text": [
      "      \n",
      "     *\n",
      "    ***\n",
      "   *****\n",
      "  *******\n",
      " *********\n"
     ]
    }
   ],
   "source": [
    "# 47.) print pyramid pattern\n",
    "for i in range(6):\n",
    "    for j in range(6-i):\n",
    "        print(end=\" \")\n",
    "    for k in range(i):\n",
    "        print(\"*\",end=\"\")\n",
    "    for l in range(i-1):\n",
    "        print(\"*\",end='')\n",
    "    print()"
   ]
  },
  {
   "cell_type": "code",
   "execution_count": null,
   "id": "9c4e3935",
   "metadata": {},
   "outputs": [],
   "source": []
  },
  {
   "cell_type": "code",
   "execution_count": null,
   "id": "a21174be",
   "metadata": {},
   "outputs": [],
   "source": []
  },
  {
   "cell_type": "code",
   "execution_count": 7,
   "id": "5f1d1161",
   "metadata": {},
   "outputs": [
    {
     "name": "stdout",
     "output_type": "stream",
     "text": [
      "{1: 'ram', 2: 'shyam', 3: 'aakash', 4: 'naina', 5: 'ankita', 6: 'akanksha'}\n"
     ]
    }
   ],
   "source": [
    "# 48.) merge two dictonaries\n",
    "d1={1:\"ram\",2:\"shyam\",3:\"aakash\"}\n",
    "d2={4:\"naina\",5:\"ankita\",6:\"akanksha\"}\n",
    "d={}\n",
    "d={**d1,**d2}\n",
    "print(d)\n",
    " "
   ]
  },
  {
   "cell_type": "code",
   "execution_count": 8,
   "id": "5e0b96ba",
   "metadata": {},
   "outputs": [
    {
     "name": "stdout",
     "output_type": "stream",
     "text": [
      "1\n",
      "7\n",
      "8\n",
      "34\n",
      "78\n",
      "25\n",
      "9\n",
      "98\n",
      "32\n",
      "17\n"
     ]
    }
   ],
   "source": [
    "# 50.)access index of a list using for loop \n",
    "l1=[1,7,8,34,78,25,9,98,32,17]\n",
    "for i in range(len(l1)):\n",
    "    print(l1[i])"
   ]
  },
  {
   "cell_type": "code",
   "execution_count": 11,
   "id": "e92edede",
   "metadata": {},
   "outputs": [
    {
     "name": "stdout",
     "output_type": "stream",
     "text": [
      "[23, 45, 67, 89, 24, 56, 78, 84, 12, 30, 27, 63]\n",
      "[56, 78, 84, 12, 30, 27, 63]\n",
      "[23, 45, 67, 89, 24, 56, 78, 84]\n"
     ]
    }
   ],
   "source": [
    "# 52.) slice a list\n",
    "\n",
    "lis=[23,45,67,89,24,56,78,84,12,30,27,63]\n",
    "print(lis[::])\n",
    "print(lis[5:])\n",
    "print(lis[:8])"
   ]
  },
  {
   "cell_type": "code",
   "execution_count": 12,
   "id": "f391d314",
   "metadata": {},
   "outputs": [
    {
     "name": "stdout",
     "output_type": "stream",
     "text": [
      "1 correspond to  rajnish\n",
      "2 correspond to  utkarsh\n",
      "3 correspond to  satyam\n",
      "4 correspond to  shadab\n",
      "5 correspond to  shailesh\n"
     ]
    }
   ],
   "source": [
    "# 53.) iterate over dictionaries using for loop \n",
    "d={1:'rajnish',2:'utkarsh',3:'satyam', 4:'shadab', 5:'shailesh'}\n",
    "for key in d:\n",
    "    print(key,'correspond to ',d[key])"
   ]
  },
  {
   "cell_type": "code",
   "execution_count": 13,
   "id": "29d122ed",
   "metadata": {},
   "outputs": [
    {
     "name": "stdout",
     "output_type": "stream",
     "text": [
      "['animal', 'apple', 'banana', 'grapes', 'human', 'mango', 'orange']\n"
     ]
    }
   ],
   "source": [
    "# 54.) sort a dictionary by value\n",
    "\n",
    "di={1:'apple',2:'orange',3:'banana',4:'grapes',5:'mango',6:'human',7:'animal'}\n",
    "d1=sorted(di.values())\n",
    "print(d1)"
   ]
  },
  {
   "cell_type": "code",
   "execution_count": 14,
   "id": "3f9a0607",
   "metadata": {},
   "outputs": [
    {
     "name": "stdout",
     "output_type": "stream",
     "text": [
      "list is empty\n"
     ]
    }
   ],
   "source": [
    "# 55.) check a list empty or not\n",
    "lst=[]\n",
    "if not lst:\n",
    "    print(\"list is empty\")"
   ]
  },
  {
   "cell_type": "code",
   "execution_count": 1,
   "id": "f03a4777",
   "metadata": {},
   "outputs": [
    {
     "name": "stdout",
     "output_type": "stream",
     "text": [
      "[1, 2, 3, 4, 5, 6, 7, 8, 9, 10, 11]\n"
     ]
    }
   ],
   "source": [
    "# 58.) concatnate two list\n",
    "\n",
    "l1=[1,3,5,7,9,11]\n",
    "l2=[2,4,6,8,10]\n",
    "l3=[]\n",
    "l3=l1+l2\n",
    "print(sorted(l3))"
   ]
  },
  {
   "cell_type": "markdown",
   "id": "dfe6ef19",
   "metadata": {},
   "source": []
  },
  {
   "cell_type": "markdown",
   "id": "5ccb92e5",
   "metadata": {},
   "source": []
  },
  {
   "cell_type": "code",
   "execution_count": 7,
   "id": "15b22e4d",
   "metadata": {},
   "outputs": [
    {
     "name": "stdout",
     "output_type": "stream",
     "text": [
      "Enter any charcter a\n",
      "97\n"
     ]
    }
   ],
   "source": [
    "# ASCII value of a charecter\n",
    "c=input(\"Enter any charcter \")\n",
    "print(ord(c))"
   ]
  },
  {
   "cell_type": "code",
   "execution_count": null,
   "id": "04afb93f",
   "metadata": {},
   "outputs": [],
   "source": []
  },
  {
   "cell_type": "code",
   "execution_count": null,
   "id": "12e204de",
   "metadata": {},
   "outputs": [],
   "source": []
  }
 ],
 "metadata": {
  "kernelspec": {
   "display_name": "Python 3",
   "language": "python",
   "name": "python3"
  },
  "language_info": {
   "codemirror_mode": {
    "name": "ipython",
    "version": 3
   },
   "file_extension": ".py",
   "mimetype": "text/x-python",
   "name": "python",
   "nbconvert_exporter": "python",
   "pygments_lexer": "ipython3",
   "version": "3.8.8"
  }
 },
 "nbformat": 4,
 "nbformat_minor": 5
}
